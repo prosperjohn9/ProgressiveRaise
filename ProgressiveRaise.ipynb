{
  "nbformat": 4,
  "nbformat_minor": 0,
  "metadata": {
    "colab": {
      "provenance": [],
      "authorship_tag": "ABX9TyN+U8orK8TX87d4jCbfIUny",
      "include_colab_link": true
    },
    "kernelspec": {
      "name": "python3",
      "display_name": "Python 3"
    },
    "language_info": {
      "name": "python"
    }
  },
  "cells": [
    {
      "cell_type": "markdown",
      "metadata": {
        "id": "view-in-github",
        "colab_type": "text"
      },
      "source": [
        "<a href=\"https://colab.research.google.com/github/prosperjohn9/ProgressiveRaise/blob/main/ProgressiveRaise.ipynb\" target=\"_parent\"><img src=\"https://colab.research.google.com/assets/colab-badge.svg\" alt=\"Open In Colab\"/></a>"
      ]
    },
    {
      "cell_type": "markdown",
      "source": [
        "At a particular company, employees' salaries are raised progressively, calculated using the following formula:\n",
        "\n",
        "\tsalary = salary + salary x (raise percentage)\n",
        "\n",
        "Raises are predefined as given below, according to the current salary of the worker. For instance, if the worker's current salary is less than or equal to 1000 TL, then its salary is increased 15%.\n",
        "\n",
        "Range | Percentage\n",
        "--- | ---\n",
        "0 < salary ≤ 1000 | 15%\n",
        "1000 < salary ≤ 2000 |10%\n",
        "2000 < salary ≤ 3000| 5%\n",
        "3000 < salary | 2.5%\n",
        "\n",
        "Write a program that asks the user to enter his/her salary. Then your program should calculate and print the raised salary of the user.\n",
        "\n",
        "\n"
      ],
      "metadata": {
        "id": "yzpBIJ3hW79v"
      }
    },
    {
      "cell_type": "code",
      "execution_count": null,
      "metadata": {
        "colab": {
          "base_uri": "https://localhost:8080/"
        },
        "id": "RKqSSMT6WzyT",
        "outputId": "0ac01aa9-871a-4f7f-8019-aa4cfab34fb7"
      },
      "outputs": [
        {
          "output_type": "stream",
          "name": "stdout",
          "text": [
            "Please enter your salary: 4000\n",
            "Your new salary is  4100.0\n"
          ]
        }
      ],
      "source": [
        "salary = int(input(\"Please enter your salary: \"))\n",
        "if salary < 0:\n",
        "  print(\"Please enter a valid salary\")\n",
        "else:\n",
        "  if salary <= 1000:\n",
        "    salary = salary + 0.15 * salary\n",
        "  elif salary <= 2000:\n",
        "    salary = salary + 0.10 * salary\n",
        "  elif salary <= 3000:\n",
        "    salary = salary + 0.05 * salary\n",
        "  else:\n",
        "    salary = salary + 0.025 * salary\n",
        "\n",
        "print(\"Your new salary is \", salary)\n"
      ]
    }
  ]
}